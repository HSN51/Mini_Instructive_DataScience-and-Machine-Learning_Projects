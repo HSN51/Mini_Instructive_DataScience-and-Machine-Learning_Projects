{
 "cells": [
  {
   "cell_type": "markdown",
   "id": "fc7b692d",
   "metadata": {
    "papermill": {
     "duration": 0.010548,
     "end_time": "2024-10-30T21:33:10.582561",
     "exception": false,
     "start_time": "2024-10-30T21:33:10.572013",
     "status": "completed"
    },
    "tags": []
   },
   "source": [
    "### Author: Hasan Hüseyin Gümüştepe\n",
    "\n",
    "* This project contains using several regression techniques when analysing WHO(World Health Organization)’s life expectancy dataset for each country. In this dataset, WHO data is collected from 193 countries and it includes critical factors that affect life expectancy, for example: education, economy, deaths, healthcare, children safety etc. "
   ]
  },
  {
   "cell_type": "code",
   "execution_count": 1,
   "id": "de6a033f",
   "metadata": {
    "_cell_guid": "b1076dfc-b9ad-4769-8c92-a6c4dae69d19",
    "_uuid": "8f2839f25d086af736a60e9eeb907d3b93b6e0e5",
    "execution": {
     "iopub.execute_input": "2024-10-30T21:33:10.604875Z",
     "iopub.status.busy": "2024-10-30T21:33:10.604353Z",
     "iopub.status.idle": "2024-10-30T21:33:11.576841Z",
     "shell.execute_reply": "2024-10-30T21:33:11.575303Z"
    },
    "papermill": {
     "duration": 0.987269,
     "end_time": "2024-10-30T21:33:11.579476",
     "exception": false,
     "start_time": "2024-10-30T21:33:10.592207",
     "status": "completed"
    },
    "tags": []
   },
   "outputs": [
    {
     "name": "stdout",
     "output_type": "stream",
     "text": [
      "/kaggle/input/life-expectancy-data/Life Expectancy Data-1.csv\n"
     ]
    }
   ],
   "source": [
    "# This Python 3 environment comes with many helpful analytics libraries installed\n",
    "# It is defined by the kaggle/python Docker image: https://github.com/kaggle/docker-python\n",
    "# For example, here's several helpful packages to load\n",
    "\n",
    "import numpy as np # linear algebra\n",
    "import pandas as pd # data processing, CSV file I/O (e.g. pd.read_csv)\n",
    "\n",
    "# Input data files are available in the read-only \"../input/\" directory\n",
    "# For example, running this (by clicking run or pressing Shift+Enter) will list all files under the input directory\n",
    "\n",
    "import os\n",
    "for dirname, _, filenames in os.walk('/kaggle/input'):\n",
    "    for filename in filenames:\n",
    "        print(os.path.join(dirname, filename))\n",
    "\n",
    "# You can write up to 20GB to the current directory (/kaggle/working/) that gets preserved as output when you create a version using \"Save & Run All\" \n",
    "# You can also write temporary files to /kaggle/temp/, but they won't be saved outside of the current session"
   ]
  },
  {
   "cell_type": "markdown",
   "id": "e34f35da",
   "metadata": {
    "papermill": {
     "duration": 0.009076,
     "end_time": "2024-10-30T21:33:11.599241",
     "exception": false,
     "start_time": "2024-10-30T21:33:11.590165",
     "status": "completed"
    },
    "tags": []
   },
   "source": [
    "* We start with importing the necessary libraries. "
   ]
  },
  {
   "cell_type": "code",
   "execution_count": 2,
   "id": "380babbe",
   "metadata": {
    "execution": {
     "iopub.execute_input": "2024-10-30T21:33:11.620287Z",
     "iopub.status.busy": "2024-10-30T21:33:11.619689Z",
     "iopub.status.idle": "2024-10-30T21:33:15.614091Z",
     "shell.execute_reply": "2024-10-30T21:33:15.612677Z"
    },
    "papermill": {
     "duration": 4.008966,
     "end_time": "2024-10-30T21:33:15.617730",
     "exception": false,
     "start_time": "2024-10-30T21:33:11.608764",
     "status": "completed"
    },
    "tags": []
   },
   "outputs": [],
   "source": [
    "import numpy as np \n",
    "import pandas as pd \n",
    "import matplotlib.pyplot as plt \n",
    "from sklearn.linear_model import LinearRegression\n",
    "import statsmodels.api as sm \n",
    "import statsmodels.formula.api as smf\n",
    "import seaborn as sns \n",
    "from sklearn.preprocessing import scale\n",
    "from sklearn.model_selection import train_test_split, GridSearchCV, cross_val_score \n",
    "from sklearn.metrics import confusion_matrix, accuracy_score, classification_report \n",
    "from sklearn.metrics import roc_auc_score, roc_curve \n",
    "import statsmodels.formula.api as smf \n",
    "from sklearn.linear_model import LogisticRegression \n",
    "from sklearn.metrics import mean_squared_error, r2_score"
   ]
  },
  {
   "cell_type": "markdown",
   "id": "17d94a9e",
   "metadata": {
    "papermill": {
     "duration": 0.009542,
     "end_time": "2024-10-30T21:33:15.638397",
     "exception": false,
     "start_time": "2024-10-30T21:33:15.628855",
     "status": "completed"
    },
    "tags": []
   },
   "source": [
    "* We import the dataset and copy it into other variables that we are going to use in the later steps.\n"
   ]
  },
  {
   "cell_type": "code",
   "execution_count": 3,
   "id": "eff58fc0",
   "metadata": {
    "execution": {
     "iopub.execute_input": "2024-10-30T21:33:15.660355Z",
     "iopub.status.busy": "2024-10-30T21:33:15.659708Z",
     "iopub.status.idle": "2024-10-30T21:33:15.704022Z",
     "shell.execute_reply": "2024-10-30T21:33:15.702679Z"
    },
    "papermill": {
     "duration": 0.059008,
     "end_time": "2024-10-30T21:33:15.706893",
     "exception": false,
     "start_time": "2024-10-30T21:33:15.647885",
     "status": "completed"
    },
    "tags": []
   },
   "outputs": [],
   "source": [
    "Life_Expectancy_Data = pd.read_csv(r\"/kaggle/input/life-expectancy-data/Life Expectancy Data-1.csv\")\n",
    "data = Life_Expectancy_Data\n",
    "data = data.dropna()\n",
    "lindata = data \n",
    "multidata = data\n",
    "polydata = data"
   ]
  },
  {
   "cell_type": "markdown",
   "id": "9705414c",
   "metadata": {
    "papermill": {
     "duration": 0.011277,
     "end_time": "2024-10-30T21:33:15.728244",
     "exception": false,
     "start_time": "2024-10-30T21:33:15.716967",
     "status": "completed"
    },
    "tags": []
   },
   "source": [
    "* We Show the column names and data types of them. "
   ]
  },
  {
   "cell_type": "code",
   "execution_count": 4,
   "id": "2cdfd9d1",
   "metadata": {
    "execution": {
     "iopub.execute_input": "2024-10-30T21:33:15.749891Z",
     "iopub.status.busy": "2024-10-30T21:33:15.749474Z",
     "iopub.status.idle": "2024-10-30T21:33:15.780855Z",
     "shell.execute_reply": "2024-10-30T21:33:15.779529Z"
    },
    "papermill": {
     "duration": 0.045537,
     "end_time": "2024-10-30T21:33:15.783443",
     "exception": false,
     "start_time": "2024-10-30T21:33:15.737906",
     "status": "completed"
    },
    "tags": []
   },
   "outputs": [
    {
     "name": "stdout",
     "output_type": "stream",
     "text": [
      "<class 'pandas.core.frame.DataFrame'>\n",
      "Index: 1649 entries, 0 to 2937\n",
      "Data columns (total 22 columns):\n",
      " #   Column                           Non-Null Count  Dtype  \n",
      "---  ------                           --------------  -----  \n",
      " 0   Country                          1649 non-null   object \n",
      " 1   Year                             1649 non-null   int64  \n",
      " 2   Status                           1649 non-null   object \n",
      " 3   Life expectancy                  1649 non-null   float64\n",
      " 4   Adult Mortality                  1649 non-null   float64\n",
      " 5   infant deaths                    1649 non-null   int64  \n",
      " 6   Alcohol                          1649 non-null   float64\n",
      " 7   percentage expenditure           1649 non-null   float64\n",
      " 8   Hepatitis B                      1649 non-null   float64\n",
      " 9   Measles                          1649 non-null   int64  \n",
      " 10   BMI                             1649 non-null   float64\n",
      " 11  under-five deaths                1649 non-null   int64  \n",
      " 12  Polio                            1649 non-null   float64\n",
      " 13  Total expenditure                1649 non-null   float64\n",
      " 14  Diphtheria                       1649 non-null   float64\n",
      " 15   HIV/AIDS                        1649 non-null   float64\n",
      " 16  GDP                              1649 non-null   float64\n",
      " 17  Population                       1649 non-null   float64\n",
      " 18   thinness  1-19 years            1649 non-null   float64\n",
      " 19   thinness 5-9 years              1649 non-null   float64\n",
      " 20  Income composition of resources  1649 non-null   float64\n",
      " 21  Schooling                        1649 non-null   float64\n",
      "dtypes: float64(16), int64(4), object(2)\n",
      "memory usage: 296.3+ KB\n"
     ]
    }
   ],
   "source": [
    "lindata.info()"
   ]
  },
  {
   "cell_type": "code",
   "execution_count": 5,
   "id": "e4603dca",
   "metadata": {
    "execution": {
     "iopub.execute_input": "2024-10-30T21:33:15.805806Z",
     "iopub.status.busy": "2024-10-30T21:33:15.804885Z",
     "iopub.status.idle": "2024-10-30T21:33:15.841461Z",
     "shell.execute_reply": "2024-10-30T21:33:15.840148Z"
    },
    "papermill": {
     "duration": 0.050312,
     "end_time": "2024-10-30T21:33:15.844112",
     "exception": false,
     "start_time": "2024-10-30T21:33:15.793800",
     "status": "completed"
    },
    "tags": []
   },
   "outputs": [
    {
     "data": {
      "text/html": [
       "<div>\n",
       "<style scoped>\n",
       "    .dataframe tbody tr th:only-of-type {\n",
       "        vertical-align: middle;\n",
       "    }\n",
       "\n",
       "    .dataframe tbody tr th {\n",
       "        vertical-align: top;\n",
       "    }\n",
       "\n",
       "    .dataframe thead th {\n",
       "        text-align: right;\n",
       "    }\n",
       "</style>\n",
       "<table border=\"1\" class=\"dataframe\">\n",
       "  <thead>\n",
       "    <tr style=\"text-align: right;\">\n",
       "      <th></th>\n",
       "      <th>Country</th>\n",
       "      <th>Year</th>\n",
       "      <th>Status</th>\n",
       "      <th>Life expectancy</th>\n",
       "      <th>Adult Mortality</th>\n",
       "      <th>infant deaths</th>\n",
       "      <th>Alcohol</th>\n",
       "      <th>percentage expenditure</th>\n",
       "      <th>Hepatitis B</th>\n",
       "      <th>Measles</th>\n",
       "      <th>...</th>\n",
       "      <th>Polio</th>\n",
       "      <th>Total expenditure</th>\n",
       "      <th>Diphtheria</th>\n",
       "      <th>HIV/AIDS</th>\n",
       "      <th>GDP</th>\n",
       "      <th>Population</th>\n",
       "      <th>thinness  1-19 years</th>\n",
       "      <th>thinness 5-9 years</th>\n",
       "      <th>Income composition of resources</th>\n",
       "      <th>Schooling</th>\n",
       "    </tr>\n",
       "  </thead>\n",
       "  <tbody>\n",
       "    <tr>\n",
       "      <th>0</th>\n",
       "      <td>Afghanistan</td>\n",
       "      <td>2015</td>\n",
       "      <td>Developing</td>\n",
       "      <td>65.0</td>\n",
       "      <td>263.0</td>\n",
       "      <td>62</td>\n",
       "      <td>0.01</td>\n",
       "      <td>71.279624</td>\n",
       "      <td>65.0</td>\n",
       "      <td>1154</td>\n",
       "      <td>...</td>\n",
       "      <td>6.0</td>\n",
       "      <td>8.16</td>\n",
       "      <td>65.0</td>\n",
       "      <td>0.1</td>\n",
       "      <td>584.259210</td>\n",
       "      <td>33736494.0</td>\n",
       "      <td>17.2</td>\n",
       "      <td>17.3</td>\n",
       "      <td>0.479</td>\n",
       "      <td>10.1</td>\n",
       "    </tr>\n",
       "    <tr>\n",
       "      <th>1</th>\n",
       "      <td>Afghanistan</td>\n",
       "      <td>2014</td>\n",
       "      <td>Developing</td>\n",
       "      <td>59.9</td>\n",
       "      <td>271.0</td>\n",
       "      <td>64</td>\n",
       "      <td>0.01</td>\n",
       "      <td>73.523582</td>\n",
       "      <td>62.0</td>\n",
       "      <td>492</td>\n",
       "      <td>...</td>\n",
       "      <td>58.0</td>\n",
       "      <td>8.18</td>\n",
       "      <td>62.0</td>\n",
       "      <td>0.1</td>\n",
       "      <td>612.696514</td>\n",
       "      <td>327582.0</td>\n",
       "      <td>17.5</td>\n",
       "      <td>17.5</td>\n",
       "      <td>0.476</td>\n",
       "      <td>10.0</td>\n",
       "    </tr>\n",
       "    <tr>\n",
       "      <th>2</th>\n",
       "      <td>Afghanistan</td>\n",
       "      <td>2013</td>\n",
       "      <td>Developing</td>\n",
       "      <td>59.9</td>\n",
       "      <td>268.0</td>\n",
       "      <td>66</td>\n",
       "      <td>0.01</td>\n",
       "      <td>73.219243</td>\n",
       "      <td>64.0</td>\n",
       "      <td>430</td>\n",
       "      <td>...</td>\n",
       "      <td>62.0</td>\n",
       "      <td>8.13</td>\n",
       "      <td>64.0</td>\n",
       "      <td>0.1</td>\n",
       "      <td>631.744976</td>\n",
       "      <td>31731688.0</td>\n",
       "      <td>17.7</td>\n",
       "      <td>17.7</td>\n",
       "      <td>0.470</td>\n",
       "      <td>9.9</td>\n",
       "    </tr>\n",
       "    <tr>\n",
       "      <th>3</th>\n",
       "      <td>Afghanistan</td>\n",
       "      <td>2012</td>\n",
       "      <td>Developing</td>\n",
       "      <td>59.5</td>\n",
       "      <td>272.0</td>\n",
       "      <td>69</td>\n",
       "      <td>0.01</td>\n",
       "      <td>78.184215</td>\n",
       "      <td>67.0</td>\n",
       "      <td>2787</td>\n",
       "      <td>...</td>\n",
       "      <td>67.0</td>\n",
       "      <td>8.52</td>\n",
       "      <td>67.0</td>\n",
       "      <td>0.1</td>\n",
       "      <td>669.959000</td>\n",
       "      <td>3696958.0</td>\n",
       "      <td>17.9</td>\n",
       "      <td>18.0</td>\n",
       "      <td>0.463</td>\n",
       "      <td>9.8</td>\n",
       "    </tr>\n",
       "    <tr>\n",
       "      <th>4</th>\n",
       "      <td>Afghanistan</td>\n",
       "      <td>2011</td>\n",
       "      <td>Developing</td>\n",
       "      <td>59.2</td>\n",
       "      <td>275.0</td>\n",
       "      <td>71</td>\n",
       "      <td>0.01</td>\n",
       "      <td>7.097109</td>\n",
       "      <td>68.0</td>\n",
       "      <td>3013</td>\n",
       "      <td>...</td>\n",
       "      <td>68.0</td>\n",
       "      <td>7.87</td>\n",
       "      <td>68.0</td>\n",
       "      <td>0.1</td>\n",
       "      <td>63.537231</td>\n",
       "      <td>2978599.0</td>\n",
       "      <td>18.2</td>\n",
       "      <td>18.2</td>\n",
       "      <td>0.454</td>\n",
       "      <td>9.5</td>\n",
       "    </tr>\n",
       "  </tbody>\n",
       "</table>\n",
       "<p>5 rows × 22 columns</p>\n",
       "</div>"
      ],
      "text/plain": [
       "       Country  Year      Status  Life expectancy   Adult Mortality  \\\n",
       "0  Afghanistan  2015  Developing              65.0            263.0   \n",
       "1  Afghanistan  2014  Developing              59.9            271.0   \n",
       "2  Afghanistan  2013  Developing              59.9            268.0   \n",
       "3  Afghanistan  2012  Developing              59.5            272.0   \n",
       "4  Afghanistan  2011  Developing              59.2            275.0   \n",
       "\n",
       "   infant deaths  Alcohol  percentage expenditure  Hepatitis B  Measles   ...  \\\n",
       "0             62     0.01               71.279624         65.0      1154  ...   \n",
       "1             64     0.01               73.523582         62.0       492  ...   \n",
       "2             66     0.01               73.219243         64.0       430  ...   \n",
       "3             69     0.01               78.184215         67.0      2787  ...   \n",
       "4             71     0.01                7.097109         68.0      3013  ...   \n",
       "\n",
       "   Polio  Total expenditure  Diphtheria    HIV/AIDS         GDP  Population  \\\n",
       "0    6.0               8.16         65.0        0.1  584.259210  33736494.0   \n",
       "1   58.0               8.18         62.0        0.1  612.696514    327582.0   \n",
       "2   62.0               8.13         64.0        0.1  631.744976  31731688.0   \n",
       "3   67.0               8.52         67.0        0.1  669.959000   3696958.0   \n",
       "4   68.0               7.87         68.0        0.1   63.537231   2978599.0   \n",
       "\n",
       "    thinness  1-19 years   thinness 5-9 years  \\\n",
       "0                   17.2                 17.3   \n",
       "1                   17.5                 17.5   \n",
       "2                   17.7                 17.7   \n",
       "3                   17.9                 18.0   \n",
       "4                   18.2                 18.2   \n",
       "\n",
       "   Income composition of resources  Schooling  \n",
       "0                            0.479       10.1  \n",
       "1                            0.476       10.0  \n",
       "2                            0.470        9.9  \n",
       "3                            0.463        9.8  \n",
       "4                            0.454        9.5  \n",
       "\n",
       "[5 rows x 22 columns]"
      ]
     },
     "execution_count": 5,
     "metadata": {},
     "output_type": "execute_result"
    }
   ],
   "source": [
    "lindata.head()"
   ]
  },
  {
   "cell_type": "markdown",
   "id": "69e861f3",
   "metadata": {
    "papermill": {
     "duration": 0.010276,
     "end_time": "2024-10-30T21:33:15.864297",
     "exception": false,
     "start_time": "2024-10-30T21:33:15.854021",
     "status": "completed"
    },
    "tags": []
   },
   "source": [
    "* We have some string values in Country and Status columns. So we need to convert the categorical variables into numerical ones. The status can be ordinal but country names are nominal. So that we need to apply One-Hot Encoding in Country column."
   ]
  },
  {
   "cell_type": "code",
   "execution_count": 6,
   "id": "361ce41e",
   "metadata": {
    "execution": {
     "iopub.execute_input": "2024-10-30T21:33:15.886885Z",
     "iopub.status.busy": "2024-10-30T21:33:15.886479Z",
     "iopub.status.idle": "2024-10-30T21:33:15.897367Z",
     "shell.execute_reply": "2024-10-30T21:33:15.896033Z"
    },
    "papermill": {
     "duration": 0.024981,
     "end_time": "2024-10-30T21:33:15.900006",
     "exception": false,
     "start_time": "2024-10-30T21:33:15.875025",
     "status": "completed"
    },
    "tags": []
   },
   "outputs": [],
   "source": [
    "import pandas as pd\n",
    "\n",
    "lindata = pd.get_dummies(lindata, columns=['Country'], prefix='Country')"
   ]
  },
  {
   "cell_type": "markdown",
   "id": "30edde97",
   "metadata": {
    "papermill": {
     "duration": 0.011482,
     "end_time": "2024-10-30T21:33:15.921364",
     "exception": false,
     "start_time": "2024-10-30T21:33:15.909882",
     "status": "completed"
    },
    "tags": []
   },
   "source": [
    "* We need to apply label encoding in Status column, but since the Label Encoder assigns numbers randomly, and we need to specify the numbers, we are going to use Replace function. We replaced Developing with 0 and Developed with 1."
   ]
  },
  {
   "cell_type": "code",
   "execution_count": 7,
   "id": "f88c3dbf",
   "metadata": {
    "execution": {
     "iopub.execute_input": "2024-10-30T21:33:15.946250Z",
     "iopub.status.busy": "2024-10-30T21:33:15.945840Z",
     "iopub.status.idle": "2024-10-30T21:33:15.953649Z",
     "shell.execute_reply": "2024-10-30T21:33:15.952421Z"
    },
    "papermill": {
     "duration": 0.022944,
     "end_time": "2024-10-30T21:33:15.956122",
     "exception": false,
     "start_time": "2024-10-30T21:33:15.933178",
     "status": "completed"
    },
    "tags": []
   },
   "outputs": [
    {
     "data": {
      "text/plain": [
       "array(['Developing', 'Developed'], dtype=object)"
      ]
     },
     "execution_count": 7,
     "metadata": {},
     "output_type": "execute_result"
    }
   ],
   "source": [
    "lindata['Status'].unique()"
   ]
  },
  {
   "cell_type": "code",
   "execution_count": 8,
   "id": "5f5dc52b",
   "metadata": {
    "execution": {
     "iopub.execute_input": "2024-10-30T21:33:15.980497Z",
     "iopub.status.busy": "2024-10-30T21:33:15.979965Z",
     "iopub.status.idle": "2024-10-30T21:33:15.987988Z",
     "shell.execute_reply": "2024-10-30T21:33:15.986657Z"
    },
    "papermill": {
     "duration": 0.024102,
     "end_time": "2024-10-30T21:33:15.990579",
     "exception": false,
     "start_time": "2024-10-30T21:33:15.966477",
     "status": "completed"
    },
    "tags": []
   },
   "outputs": [
    {
     "name": "stderr",
     "output_type": "stream",
     "text": [
      "/tmp/ipykernel_17/474184615.py:1: FutureWarning: Downcasting behavior in `replace` is deprecated and will be removed in a future version. To retain the old behavior, explicitly call `result.infer_objects(copy=False)`. To opt-in to the future behavior, set `pd.set_option('future.no_silent_downcasting', True)`\n",
      "  lindata['Status']=lindata['Status'].replace({'Developing':0, 'Developed':1})\n"
     ]
    }
   ],
   "source": [
    "lindata['Status']=lindata['Status'].replace({'Developing':0, 'Developed':1})"
   ]
  },
  {
   "cell_type": "markdown",
   "id": "c6efb881",
   "metadata": {
    "papermill": {
     "duration": 0.010392,
     "end_time": "2024-10-30T21:33:16.011103",
     "exception": false,
     "start_time": "2024-10-30T21:33:16.000711",
     "status": "completed"
    },
    "tags": []
   },
   "source": [
    "* This is the last version of the dataset: "
   ]
  },
  {
   "cell_type": "code",
   "execution_count": 9,
   "id": "4758afb2",
   "metadata": {
    "execution": {
     "iopub.execute_input": "2024-10-30T21:33:16.033778Z",
     "iopub.status.busy": "2024-10-30T21:33:16.033333Z",
     "iopub.status.idle": "2024-10-30T21:33:16.064678Z",
     "shell.execute_reply": "2024-10-30T21:33:16.063470Z"
    },
    "papermill": {
     "duration": 0.046233,
     "end_time": "2024-10-30T21:33:16.067573",
     "exception": false,
     "start_time": "2024-10-30T21:33:16.021340",
     "status": "completed"
    },
    "tags": []
   },
   "outputs": [
    {
     "data": {
      "text/html": [
       "<div>\n",
       "<style scoped>\n",
       "    .dataframe tbody tr th:only-of-type {\n",
       "        vertical-align: middle;\n",
       "    }\n",
       "\n",
       "    .dataframe tbody tr th {\n",
       "        vertical-align: top;\n",
       "    }\n",
       "\n",
       "    .dataframe thead th {\n",
       "        text-align: right;\n",
       "    }\n",
       "</style>\n",
       "<table border=\"1\" class=\"dataframe\">\n",
       "  <thead>\n",
       "    <tr style=\"text-align: right;\">\n",
       "      <th></th>\n",
       "      <th>Year</th>\n",
       "      <th>Status</th>\n",
       "      <th>Life expectancy</th>\n",
       "      <th>Adult Mortality</th>\n",
       "      <th>infant deaths</th>\n",
       "      <th>Alcohol</th>\n",
       "      <th>percentage expenditure</th>\n",
       "      <th>Hepatitis B</th>\n",
       "      <th>Measles</th>\n",
       "      <th>BMI</th>\n",
       "      <th>...</th>\n",
       "      <th>Country_Tunisia</th>\n",
       "      <th>Country_Turkey</th>\n",
       "      <th>Country_Turkmenistan</th>\n",
       "      <th>Country_Uganda</th>\n",
       "      <th>Country_Ukraine</th>\n",
       "      <th>Country_Uruguay</th>\n",
       "      <th>Country_Uzbekistan</th>\n",
       "      <th>Country_Vanuatu</th>\n",
       "      <th>Country_Zambia</th>\n",
       "      <th>Country_Zimbabwe</th>\n",
       "    </tr>\n",
       "  </thead>\n",
       "  <tbody>\n",
       "    <tr>\n",
       "      <th>0</th>\n",
       "      <td>2015</td>\n",
       "      <td>0</td>\n",
       "      <td>65.0</td>\n",
       "      <td>263.0</td>\n",
       "      <td>62</td>\n",
       "      <td>0.01</td>\n",
       "      <td>71.279624</td>\n",
       "      <td>65.0</td>\n",
       "      <td>1154</td>\n",
       "      <td>19.1</td>\n",
       "      <td>...</td>\n",
       "      <td>False</td>\n",
       "      <td>False</td>\n",
       "      <td>False</td>\n",
       "      <td>False</td>\n",
       "      <td>False</td>\n",
       "      <td>False</td>\n",
       "      <td>False</td>\n",
       "      <td>False</td>\n",
       "      <td>False</td>\n",
       "      <td>False</td>\n",
       "    </tr>\n",
       "    <tr>\n",
       "      <th>1</th>\n",
       "      <td>2014</td>\n",
       "      <td>0</td>\n",
       "      <td>59.9</td>\n",
       "      <td>271.0</td>\n",
       "      <td>64</td>\n",
       "      <td>0.01</td>\n",
       "      <td>73.523582</td>\n",
       "      <td>62.0</td>\n",
       "      <td>492</td>\n",
       "      <td>18.6</td>\n",
       "      <td>...</td>\n",
       "      <td>False</td>\n",
       "      <td>False</td>\n",
       "      <td>False</td>\n",
       "      <td>False</td>\n",
       "      <td>False</td>\n",
       "      <td>False</td>\n",
       "      <td>False</td>\n",
       "      <td>False</td>\n",
       "      <td>False</td>\n",
       "      <td>False</td>\n",
       "    </tr>\n",
       "    <tr>\n",
       "      <th>2</th>\n",
       "      <td>2013</td>\n",
       "      <td>0</td>\n",
       "      <td>59.9</td>\n",
       "      <td>268.0</td>\n",
       "      <td>66</td>\n",
       "      <td>0.01</td>\n",
       "      <td>73.219243</td>\n",
       "      <td>64.0</td>\n",
       "      <td>430</td>\n",
       "      <td>18.1</td>\n",
       "      <td>...</td>\n",
       "      <td>False</td>\n",
       "      <td>False</td>\n",
       "      <td>False</td>\n",
       "      <td>False</td>\n",
       "      <td>False</td>\n",
       "      <td>False</td>\n",
       "      <td>False</td>\n",
       "      <td>False</td>\n",
       "      <td>False</td>\n",
       "      <td>False</td>\n",
       "    </tr>\n",
       "    <tr>\n",
       "      <th>3</th>\n",
       "      <td>2012</td>\n",
       "      <td>0</td>\n",
       "      <td>59.5</td>\n",
       "      <td>272.0</td>\n",
       "      <td>69</td>\n",
       "      <td>0.01</td>\n",
       "      <td>78.184215</td>\n",
       "      <td>67.0</td>\n",
       "      <td>2787</td>\n",
       "      <td>17.6</td>\n",
       "      <td>...</td>\n",
       "      <td>False</td>\n",
       "      <td>False</td>\n",
       "      <td>False</td>\n",
       "      <td>False</td>\n",
       "      <td>False</td>\n",
       "      <td>False</td>\n",
       "      <td>False</td>\n",
       "      <td>False</td>\n",
       "      <td>False</td>\n",
       "      <td>False</td>\n",
       "    </tr>\n",
       "    <tr>\n",
       "      <th>4</th>\n",
       "      <td>2011</td>\n",
       "      <td>0</td>\n",
       "      <td>59.2</td>\n",
       "      <td>275.0</td>\n",
       "      <td>71</td>\n",
       "      <td>0.01</td>\n",
       "      <td>7.097109</td>\n",
       "      <td>68.0</td>\n",
       "      <td>3013</td>\n",
       "      <td>17.2</td>\n",
       "      <td>...</td>\n",
       "      <td>False</td>\n",
       "      <td>False</td>\n",
       "      <td>False</td>\n",
       "      <td>False</td>\n",
       "      <td>False</td>\n",
       "      <td>False</td>\n",
       "      <td>False</td>\n",
       "      <td>False</td>\n",
       "      <td>False</td>\n",
       "      <td>False</td>\n",
       "    </tr>\n",
       "    <tr>\n",
       "      <th>...</th>\n",
       "      <td>...</td>\n",
       "      <td>...</td>\n",
       "      <td>...</td>\n",
       "      <td>...</td>\n",
       "      <td>...</td>\n",
       "      <td>...</td>\n",
       "      <td>...</td>\n",
       "      <td>...</td>\n",
       "      <td>...</td>\n",
       "      <td>...</td>\n",
       "      <td>...</td>\n",
       "      <td>...</td>\n",
       "      <td>...</td>\n",
       "      <td>...</td>\n",
       "      <td>...</td>\n",
       "      <td>...</td>\n",
       "      <td>...</td>\n",
       "      <td>...</td>\n",
       "      <td>...</td>\n",
       "      <td>...</td>\n",
       "      <td>...</td>\n",
       "    </tr>\n",
       "    <tr>\n",
       "      <th>2933</th>\n",
       "      <td>2004</td>\n",
       "      <td>0</td>\n",
       "      <td>44.3</td>\n",
       "      <td>723.0</td>\n",
       "      <td>27</td>\n",
       "      <td>4.36</td>\n",
       "      <td>0.000000</td>\n",
       "      <td>68.0</td>\n",
       "      <td>31</td>\n",
       "      <td>27.1</td>\n",
       "      <td>...</td>\n",
       "      <td>False</td>\n",
       "      <td>False</td>\n",
       "      <td>False</td>\n",
       "      <td>False</td>\n",
       "      <td>False</td>\n",
       "      <td>False</td>\n",
       "      <td>False</td>\n",
       "      <td>False</td>\n",
       "      <td>False</td>\n",
       "      <td>True</td>\n",
       "    </tr>\n",
       "    <tr>\n",
       "      <th>2934</th>\n",
       "      <td>2003</td>\n",
       "      <td>0</td>\n",
       "      <td>44.5</td>\n",
       "      <td>715.0</td>\n",
       "      <td>26</td>\n",
       "      <td>4.06</td>\n",
       "      <td>0.000000</td>\n",
       "      <td>7.0</td>\n",
       "      <td>998</td>\n",
       "      <td>26.7</td>\n",
       "      <td>...</td>\n",
       "      <td>False</td>\n",
       "      <td>False</td>\n",
       "      <td>False</td>\n",
       "      <td>False</td>\n",
       "      <td>False</td>\n",
       "      <td>False</td>\n",
       "      <td>False</td>\n",
       "      <td>False</td>\n",
       "      <td>False</td>\n",
       "      <td>True</td>\n",
       "    </tr>\n",
       "    <tr>\n",
       "      <th>2935</th>\n",
       "      <td>2002</td>\n",
       "      <td>0</td>\n",
       "      <td>44.8</td>\n",
       "      <td>73.0</td>\n",
       "      <td>25</td>\n",
       "      <td>4.43</td>\n",
       "      <td>0.000000</td>\n",
       "      <td>73.0</td>\n",
       "      <td>304</td>\n",
       "      <td>26.3</td>\n",
       "      <td>...</td>\n",
       "      <td>False</td>\n",
       "      <td>False</td>\n",
       "      <td>False</td>\n",
       "      <td>False</td>\n",
       "      <td>False</td>\n",
       "      <td>False</td>\n",
       "      <td>False</td>\n",
       "      <td>False</td>\n",
       "      <td>False</td>\n",
       "      <td>True</td>\n",
       "    </tr>\n",
       "    <tr>\n",
       "      <th>2936</th>\n",
       "      <td>2001</td>\n",
       "      <td>0</td>\n",
       "      <td>45.3</td>\n",
       "      <td>686.0</td>\n",
       "      <td>25</td>\n",
       "      <td>1.72</td>\n",
       "      <td>0.000000</td>\n",
       "      <td>76.0</td>\n",
       "      <td>529</td>\n",
       "      <td>25.9</td>\n",
       "      <td>...</td>\n",
       "      <td>False</td>\n",
       "      <td>False</td>\n",
       "      <td>False</td>\n",
       "      <td>False</td>\n",
       "      <td>False</td>\n",
       "      <td>False</td>\n",
       "      <td>False</td>\n",
       "      <td>False</td>\n",
       "      <td>False</td>\n",
       "      <td>True</td>\n",
       "    </tr>\n",
       "    <tr>\n",
       "      <th>2937</th>\n",
       "      <td>2000</td>\n",
       "      <td>0</td>\n",
       "      <td>46.0</td>\n",
       "      <td>665.0</td>\n",
       "      <td>24</td>\n",
       "      <td>1.68</td>\n",
       "      <td>0.000000</td>\n",
       "      <td>79.0</td>\n",
       "      <td>1483</td>\n",
       "      <td>25.5</td>\n",
       "      <td>...</td>\n",
       "      <td>False</td>\n",
       "      <td>False</td>\n",
       "      <td>False</td>\n",
       "      <td>False</td>\n",
       "      <td>False</td>\n",
       "      <td>False</td>\n",
       "      <td>False</td>\n",
       "      <td>False</td>\n",
       "      <td>False</td>\n",
       "      <td>True</td>\n",
       "    </tr>\n",
       "  </tbody>\n",
       "</table>\n",
       "<p>1649 rows × 154 columns</p>\n",
       "</div>"
      ],
      "text/plain": [
       "      Year  Status  Life expectancy   Adult Mortality  infant deaths  Alcohol  \\\n",
       "0     2015       0              65.0            263.0             62     0.01   \n",
       "1     2014       0              59.9            271.0             64     0.01   \n",
       "2     2013       0              59.9            268.0             66     0.01   \n",
       "3     2012       0              59.5            272.0             69     0.01   \n",
       "4     2011       0              59.2            275.0             71     0.01   \n",
       "...    ...     ...               ...              ...            ...      ...   \n",
       "2933  2004       0              44.3            723.0             27     4.36   \n",
       "2934  2003       0              44.5            715.0             26     4.06   \n",
       "2935  2002       0              44.8             73.0             25     4.43   \n",
       "2936  2001       0              45.3            686.0             25     1.72   \n",
       "2937  2000       0              46.0            665.0             24     1.68   \n",
       "\n",
       "      percentage expenditure  Hepatitis B  Measles    BMI   ...  \\\n",
       "0                  71.279624         65.0      1154   19.1  ...   \n",
       "1                  73.523582         62.0       492   18.6  ...   \n",
       "2                  73.219243         64.0       430   18.1  ...   \n",
       "3                  78.184215         67.0      2787   17.6  ...   \n",
       "4                   7.097109         68.0      3013   17.2  ...   \n",
       "...                      ...          ...       ...    ...  ...   \n",
       "2933                0.000000         68.0        31   27.1  ...   \n",
       "2934                0.000000          7.0       998   26.7  ...   \n",
       "2935                0.000000         73.0       304   26.3  ...   \n",
       "2936                0.000000         76.0       529   25.9  ...   \n",
       "2937                0.000000         79.0      1483   25.5  ...   \n",
       "\n",
       "      Country_Tunisia  Country_Turkey  Country_Turkmenistan  Country_Uganda  \\\n",
       "0               False           False                 False           False   \n",
       "1               False           False                 False           False   \n",
       "2               False           False                 False           False   \n",
       "3               False           False                 False           False   \n",
       "4               False           False                 False           False   \n",
       "...               ...             ...                   ...             ...   \n",
       "2933            False           False                 False           False   \n",
       "2934            False           False                 False           False   \n",
       "2935            False           False                 False           False   \n",
       "2936            False           False                 False           False   \n",
       "2937            False           False                 False           False   \n",
       "\n",
       "      Country_Ukraine  Country_Uruguay  Country_Uzbekistan  Country_Vanuatu  \\\n",
       "0               False            False               False            False   \n",
       "1               False            False               False            False   \n",
       "2               False            False               False            False   \n",
       "3               False            False               False            False   \n",
       "4               False            False               False            False   \n",
       "...               ...              ...                 ...              ...   \n",
       "2933            False            False               False            False   \n",
       "2934            False            False               False            False   \n",
       "2935            False            False               False            False   \n",
       "2936            False            False               False            False   \n",
       "2937            False            False               False            False   \n",
       "\n",
       "      Country_Zambia  Country_Zimbabwe  \n",
       "0              False             False  \n",
       "1              False             False  \n",
       "2              False             False  \n",
       "3              False             False  \n",
       "4              False             False  \n",
       "...              ...               ...  \n",
       "2933           False              True  \n",
       "2934           False              True  \n",
       "2935           False              True  \n",
       "2936           False              True  \n",
       "2937           False              True  \n",
       "\n",
       "[1649 rows x 154 columns]"
      ]
     },
     "execution_count": 9,
     "metadata": {},
     "output_type": "execute_result"
    }
   ],
   "source": [
    "lindata"
   ]
  },
  {
   "cell_type": "code",
   "execution_count": 10,
   "id": "99d71e5e",
   "metadata": {
    "execution": {
     "iopub.execute_input": "2024-10-30T21:33:16.091457Z",
     "iopub.status.busy": "2024-10-30T21:33:16.090969Z",
     "iopub.status.idle": "2024-10-30T21:33:16.099268Z",
     "shell.execute_reply": "2024-10-30T21:33:16.097241Z"
    },
    "papermill": {
     "duration": 0.023291,
     "end_time": "2024-10-30T21:33:16.102008",
     "exception": false,
     "start_time": "2024-10-30T21:33:16.078717",
     "status": "completed"
    },
    "tags": []
   },
   "outputs": [
    {
     "name": "stdout",
     "output_type": "stream",
     "text": [
      "Index(['Year', 'Status', 'Life expectancy ', 'Adult Mortality',\n",
      "       'infant deaths', 'Alcohol', 'percentage expenditure', 'Hepatitis B',\n",
      "       'Measles ', ' BMI ',\n",
      "       ...\n",
      "       'Country_Tunisia', 'Country_Turkey', 'Country_Turkmenistan',\n",
      "       'Country_Uganda', 'Country_Ukraine', 'Country_Uruguay',\n",
      "       'Country_Uzbekistan', 'Country_Vanuatu', 'Country_Zambia',\n",
      "       'Country_Zimbabwe'],\n",
      "      dtype='object', length=154)\n"
     ]
    }
   ],
   "source": [
    "print(lindata.columns)"
   ]
  },
  {
   "cell_type": "markdown",
   "id": "f62f7d62",
   "metadata": {
    "papermill": {
     "duration": 0.013011,
     "end_time": "2024-10-30T21:33:16.125941",
     "exception": false,
     "start_time": "2024-10-30T21:33:16.112930",
     "status": "completed"
    },
    "tags": []
   },
   "source": [
    "* Since we had many columns(154) when we applied one hot encoding to countries, we cannot create a meaningful correlation graph. So that we take a sub dataset with these columns: "
   ]
  },
  {
   "cell_type": "code",
   "execution_count": 11,
   "id": "b599f135",
   "metadata": {
    "execution": {
     "iopub.execute_input": "2024-10-30T21:33:16.150456Z",
     "iopub.status.busy": "2024-10-30T21:33:16.150012Z",
     "iopub.status.idle": "2024-10-30T21:33:16.159232Z",
     "shell.execute_reply": "2024-10-30T21:33:16.158029Z"
    },
    "papermill": {
     "duration": 0.02432,
     "end_time": "2024-10-30T21:33:16.161735",
     "exception": false,
     "start_time": "2024-10-30T21:33:16.137415",
     "status": "completed"
    },
    "tags": []
   },
   "outputs": [],
   "source": [
    "# Sütun isimlerindeki boşlukları temizleyip küçük harfe dönüştürüyoruz\n",
    "lindata.columns = lindata.columns.str.strip().str.replace(' ', '').str.lower()\n",
    "\n",
    "# Sütun isimlerini uyumlu olacak şekilde değiştirerek veri seçiyoruz\n",
    "lindata2 = lindata[['year', 'status', 'adultmortality', 'infantdeaths', 'alcohol', 'percentageexpenditure', 'measles',\n",
    "                    'bmi', 'under-fivedeaths', 'hiv/aids', 'gdp', 'population', 'thinness1-19years', \n",
    "                    'thinness5-9years', 'incomecompositionofresources', 'schooling']]\n"
   ]
  },
  {
   "cell_type": "markdown",
   "id": "ed8b8ce4",
   "metadata": {
    "papermill": {
     "duration": 0.010584,
     "end_time": "2024-10-30T21:33:16.183101",
     "exception": false,
     "start_time": "2024-10-30T21:33:16.172517",
     "status": "completed"
    },
    "tags": []
   },
   "source": [
    "# Plot the Heatmap"
   ]
  },
  {
   "cell_type": "code",
   "execution_count": 12,
   "id": "d7078482",
   "metadata": {
    "execution": {
     "iopub.execute_input": "2024-10-30T21:33:16.208204Z",
     "iopub.status.busy": "2024-10-30T21:33:16.207511Z",
     "iopub.status.idle": "2024-10-30T21:33:16.816948Z",
     "shell.execute_reply": "2024-10-30T21:33:16.815840Z"
    },
    "papermill": {
     "duration": 0.625068,
     "end_time": "2024-10-30T21:33:16.819481",
     "exception": false,
     "start_time": "2024-10-30T21:33:16.194413",
     "status": "completed"
    },
    "tags": []
   },
   "outputs": [
    {
     "data": {
      "text/plain": [
       "<Axes: >"
      ]
     },
     "execution_count": 12,
     "metadata": {},
     "output_type": "execute_result"
    },
    {
     "data": {
      "image/png": "[encoded data removed]",
      "text/plain": [
       "<Figure size 640x480 with 2 Axes>"
      ]
     },
     "metadata": {},
     "output_type": "display_data"
    }
   ],
   "source": [
    "corr = lindata2.corr()\n",
    "sns.heatmap(corr,\n",
    "           xticklabels=corr.columns,\n",
    "           yticklabels=corr.columns)"
   ]
  },
  {
   "cell_type": "markdown",
   "id": "d024975a",
   "metadata": {
    "papermill": {
     "duration": 0.012394,
     "end_time": "2024-10-30T21:33:16.843981",
     "exception": false,
     "start_time": "2024-10-30T21:33:16.831587",
     "status": "completed"
    },
    "tags": []
   },
   "source": [
    "* **GDP**: GDP, or Gross Domestic Product, is a key indicator of the economic performance of a country. **It represents the total value of all goods and services produced over a specific time period within the borders of a country**. GDP is often used as a comprehensive measure of a nation's overall economic health and is a fundamental metric in economic analysis.\n",
    "\n",
    "* **Percentage Expenditure**: This indicator **represents the total amount spent on health as a percentage of a country's Gross Domestic Product**. It provides insights into the relative importance of health spending in the overall economy.\n",
    "\n",
    "Here is the linear regression formula: "
   ]
  },
  {
   "attachments": {
    "cee66815-0ba2-438b-9e6e-1b9faa85a3fb.png": {
     "image/png": "[encoded data removed]"
    }
   },
   "cell_type": "markdown",
   "id": "bfd4033b",
   "metadata": {
    "papermill": {
     "duration": 0.012962,
     "end_time": "2024-10-30T21:33:16.869101",
     "exception": false,
     "start_time": "2024-10-30T21:33:16.856139",
     "status": "completed"
    },
    "tags": []
   },
   "source": [
    "![image.png](attachment:cee66815-0ba2-438b-9e6e-1b9faa85a3fb.png)"
   ]
  },
  {
   "cell_type": "markdown",
   "id": "c3372a1a",
   "metadata": {
    "papermill": {
     "duration": 0.011827,
     "end_time": "2024-10-30T21:33:16.894022",
     "exception": false,
     "start_time": "2024-10-30T21:33:16.882195",
     "status": "completed"
    },
    "tags": []
   },
   "source": [
    "# Linear Regression\n"
   ]
  },
  {
   "cell_type": "markdown",
   "id": "6ae44965",
   "metadata": {
    "papermill": {
     "duration": 0.011602,
     "end_time": "2024-10-30T21:33:16.917765",
     "exception": false,
     "start_time": "2024-10-30T21:33:16.906163",
     "status": "completed"
    },
    "tags": []
   },
   "source": [
    "* We assigned GDP column to X and percentage expenditure to y, then we split the dataset into training and test sets. "
   ]
  },
  {
   "cell_type": "code",
   "execution_count": 13,
   "id": "ca9511f7",
   "metadata": {
    "execution": {
     "iopub.execute_input": "2024-10-30T21:33:16.944190Z",
     "iopub.status.busy": "2024-10-30T21:33:16.943722Z",
     "iopub.status.idle": "2024-10-30T21:33:16.956352Z",
     "shell.execute_reply": "2024-10-30T21:33:16.955140Z"
    },
    "papermill": {
     "duration": 0.028843,
     "end_time": "2024-10-30T21:33:16.958922",
     "exception": false,
     "start_time": "2024-10-30T21:33:16.930079",
     "status": "completed"
    },
    "tags": []
   },
   "outputs": [],
   "source": [
    "from sklearn.model_selection import train_test_split\n",
    "from sklearn.linear_model import LinearRegression\n",
    "\n",
    "# Sütun adlarını temizleme\n",
    "lindata.columns = lindata.columns.str.strip().str.replace(' ', '').str.lower()\n",
    "\n",
    "# Temizlenmiş sütun adları ile veri seçimi\n",
    "X = lindata[['gdp']]\n",
    "y = lindata['percentageexpenditure']\n",
    "\n",
    "\n",
    "X_train, X_test, y_train, y_test = train_test_split(X, y, test_size=0.2, random_state=42)"
   ]
  },
  {
   "cell_type": "markdown",
   "id": "5e5da4cb",
   "metadata": {
    "papermill": {
     "duration": 0.012629,
     "end_time": "2024-10-30T21:33:16.983847",
     "exception": false,
     "start_time": "2024-10-30T21:33:16.971218",
     "status": "completed"
    },
    "tags": []
   },
   "source": [
    "* - We build the linear regression model and fit the training sets inside the model. Then the model took the X_test values and predicted the y_test values and stored them in y_pred variable."
   ]
  },
  {
   "cell_type": "code",
   "execution_count": 14,
   "id": "b1418cfa",
   "metadata": {
    "execution": {
     "iopub.execute_input": "2024-10-30T21:33:17.009995Z",
     "iopub.status.busy": "2024-10-30T21:33:17.009568Z",
     "iopub.status.idle": "2024-10-30T21:33:17.031404Z",
     "shell.execute_reply": "2024-10-30T21:33:17.030077Z"
    },
    "papermill": {
     "duration": 0.038324,
     "end_time": "2024-10-30T21:33:17.034197",
     "exception": false,
     "start_time": "2024-10-30T21:33:16.995873",
     "status": "completed"
    },
    "tags": []
   },
   "outputs": [],
   "source": [
    "linear_reg = LinearRegression()\n",
    "linear_reg.fit(X_train, y_train)\n",
    "\n",
    "y_pred = linear_reg.predict(X_test)"
   ]
  },
  {
   "cell_type": "markdown",
   "id": "c9f293b7",
   "metadata": {
    "papermill": {
     "duration": 0.011724,
     "end_time": "2024-10-30T21:33:17.058472",
     "exception": false,
     "start_time": "2024-10-30T21:33:17.046748",
     "status": "completed"
    },
    "tags": []
   },
   "source": [
    "* We calculated the error and accuracy rates of the model. R^2 score is for accuracy of the linear regression models and we can say that model predicts around 80% of the y values truly. "
   ]
  },
  {
   "cell_type": "code",
   "execution_count": 15,
   "id": "085f93c2",
   "metadata": {
    "execution": {
     "iopub.execute_input": "2024-10-30T21:33:17.085244Z",
     "iopub.status.busy": "2024-10-30T21:33:17.084788Z",
     "iopub.status.idle": "2024-10-30T21:33:17.094181Z",
     "shell.execute_reply": "2024-10-30T21:33:17.092921Z"
    },
    "papermill": {
     "duration": 0.026131,
     "end_time": "2024-10-30T21:33:17.097249",
     "exception": false,
     "start_time": "2024-10-30T21:33:17.071118",
     "status": "completed"
    },
    "tags": []
   },
   "outputs": [
    {
     "name": "stdout",
     "output_type": "stream",
     "text": [
      "Mean Squared Error (MSE): 317721.90103291685\n",
      "Mean Absolute Error (MAE): 246.56374203684524\n",
      "Root Mean Squared Error (RMSE): 563.6682544129276\n",
      "R-squared (R2) Score: 0.8153217964374084\n"
     ]
    }
   ],
   "source": [
    "from sklearn.metrics import mean_squared_error, mean_absolute_error, r2_score\n",
    "import numpy as np\n",
    "import pandas as pd\n",
    "\n",
    "# Calculate MSE, MAE, RMSE and R2 score\n",
    "mse = mean_squared_error(y_test, y_pred)\n",
    "mae = mean_absolute_error(y_test, y_pred)\n",
    "rmse = np.sqrt(mse)\n",
    "r2 = r2_score(y_test, y_pred)\n",
    "\n",
    "print(\"Mean Squared Error (MSE):\", mse)\n",
    "print(\"Mean Absolute Error (MAE):\", mae)\n",
    "print(\"Root Mean Squared Error (RMSE):\", rmse)\n",
    "print(\"R-squared (R2) Score:\", r2)"
   ]
  },
  {
   "cell_type": "markdown",
   "id": "47d601f4",
   "metadata": {
    "papermill": {
     "duration": 0.011717,
     "end_time": "2024-10-30T21:33:17.121301",
     "exception": false,
     "start_time": "2024-10-30T21:33:17.109584",
     "status": "completed"
    },
    "tags": []
   },
   "source": [
    "* In the plot below, we can see the difference between the real and the predicted values."
   ]
  },
  {
   "cell_type": "code",
   "execution_count": 16,
   "id": "238569c0",
   "metadata": {
    "execution": {
     "iopub.execute_input": "2024-10-30T21:33:17.148136Z",
     "iopub.status.busy": "2024-10-30T21:33:17.147669Z",
     "iopub.status.idle": "2024-10-30T21:33:17.524123Z",
     "shell.execute_reply": "2024-10-30T21:33:17.522796Z"
    },
    "papermill": {
     "duration": 0.393117,
     "end_time": "2024-10-30T21:33:17.526847",
     "exception": false,
     "start_time": "2024-10-30T21:33:17.133730",
     "status": "completed"
    },
    "tags": []
   },
   "outputs": [
    {
     "data": {
      "image/png": "[encoded data removed]",
      "text/plain": [
       "<Figure size 1000x600 with 1 Axes>"
      ]
     },
     "metadata": {},
     "output_type": "display_data"
    }
   ],
   "source": [
    "import matplotlib.pyplot as plt\n",
    "import numpy as np\n",
    "\n",
    "# We create an array of equally spaced values for the straight line\n",
    "line_values = np.linspace(y_test.min(), y_test.max(), len(y_test))\n",
    "\n",
    "plt.figure(figsize=(10, 6))\n",
    "\n",
    "# We plot the straight line of real values\n",
    "plt.plot(line_values, line_values, color='blue', linestyle='--', linewidth=2, label='Perfect Prediction')\n",
    "\n",
    "# We draw a scatter plot for real vs predicted values\n",
    "plt.scatter(y_test, y_pred, alpha=0.5, label='Actual vs Predicted')\n",
    "\n",
    "plt.title('Real vs Predicted Values')\n",
    "plt.xlabel('Real Values')\n",
    "plt.ylabel('Predicted Values')\n",
    "plt.legend()\n",
    "plt.grid(True)\n",
    "plt.show()"
   ]
  },
  {
   "cell_type": "markdown",
   "id": "cde1ca5a",
   "metadata": {
    "papermill": {
     "duration": 0.012737,
     "end_time": "2024-10-30T21:33:17.555077",
     "exception": false,
     "start_time": "2024-10-30T21:33:17.542340",
     "status": "completed"
    },
    "tags": []
   },
   "source": [
    "# Multiple Linear Regression\n",
    "* In this procedure, we are going to use different independent values to make the model predict one dependent value. "
   ]
  },
  {
   "attachments": {
    "77f28cf8-4cde-483f-b149-46d08c0b035c.png": {
     "image/png": "[encoded data removed]"
    }
   },
   "cell_type": "markdown",
   "id": "05fd3753",
   "metadata": {
    "papermill": {
     "duration": 0.016503,
     "end_time": "2024-10-30T21:33:17.585755",
     "exception": false,
     "start_time": "2024-10-30T21:33:17.569252",
     "status": "completed"
    },
    "tags": []
   },
   "source": [
    "![image.png](attachment:77f28cf8-4cde-483f-b149-46d08c0b035c.png)"
   ]
  },
  {
   "cell_type": "markdown",
   "id": "19e47f37",
   "metadata": {
    "papermill": {
     "duration": 0.020394,
     "end_time": "2024-10-30T21:33:17.625826",
     "exception": false,
     "start_time": "2024-10-30T21:33:17.605432",
     "status": "completed"
    },
    "tags": []
   },
   "source": [
    "* We are going to drop the columns which are numeric and then we will use each column except ‘percentage expenditure’ and the model will predict percentage expenditure values. "
   ]
  },
  {
   "cell_type": "code",
   "execution_count": 17,
   "id": "dd68ffc7",
   "metadata": {
    "execution": {
     "iopub.execute_input": "2024-10-30T21:33:17.664725Z",
     "iopub.status.busy": "2024-10-30T21:33:17.664280Z",
     "iopub.status.idle": "2024-10-30T21:33:17.691145Z",
     "shell.execute_reply": "2024-10-30T21:33:17.689891Z"
    },
    "papermill": {
     "duration": 0.049049,
     "end_time": "2024-10-30T21:33:17.693814",
     "exception": false,
     "start_time": "2024-10-30T21:33:17.644765",
     "status": "completed"
    },
    "tags": []
   },
   "outputs": [],
   "source": [
    "Life_Expectancy_Data = pd.read_csv(r\"/kaggle/input/life-expectancy-data/Life Expectancy Data-1.csv\") \n",
    "data = Life_Expectancy_Data.copy()\n",
    "data = data.dropna()\n",
    "\n",
    "multidata = data.copy()\n",
    "multidata.drop([\"Country\", \"Status\"], axis=1, inplace=True)\n",
    "\n",
    "x = multidata.drop('percentage expenditure', axis=1)\n",
    "y = multidata[\"percentage expenditure\"]"
   ]
  },
  {
   "cell_type": "markdown",
   "id": "e8e76635",
   "metadata": {
    "papermill": {
     "duration": 0.013924,
     "end_time": "2024-10-30T21:33:17.721395",
     "exception": false,
     "start_time": "2024-10-30T21:33:17.707471",
     "status": "completed"
    },
    "tags": []
   },
   "source": [
    "* Before splitting the dataset into training and test sets, let’s scale the data so that every attribute is represented in the same scale, which increase interpretability of the model. "
   ]
  },
  {
   "cell_type": "code",
   "execution_count": 18,
   "id": "64c3e179",
   "metadata": {
    "execution": {
     "iopub.execute_input": "2024-10-30T21:33:17.751668Z",
     "iopub.status.busy": "2024-10-30T21:33:17.751265Z",
     "iopub.status.idle": "2024-10-30T21:33:17.763000Z",
     "shell.execute_reply": "2024-10-30T21:33:17.761701Z"
    },
    "papermill": {
     "duration": 0.029768,
     "end_time": "2024-10-30T21:33:17.765515",
     "exception": false,
     "start_time": "2024-10-30T21:33:17.735747",
     "status": "completed"
    },
    "tags": []
   },
   "outputs": [],
   "source": [
    "from sklearn.preprocessing import StandardScaler\n",
    "\n",
    "scaler = StandardScaler()\n",
    "c = scaler.fit_transform(x)"
   ]
  },
  {
   "cell_type": "markdown",
   "id": "9f0bf649",
   "metadata": {
    "papermill": {
     "duration": 0.012732,
     "end_time": "2024-10-30T21:33:17.792529",
     "exception": false,
     "start_time": "2024-10-30T21:33:17.779797",
     "status": "completed"
    },
    "tags": []
   },
   "source": [
    "* We split the dataset into training and test sets, we create the model, fit the training data in it and we get intercept and coefficient values."
   ]
  },
  {
   "cell_type": "code",
   "execution_count": 19,
   "id": "0a5c80d8",
   "metadata": {
    "execution": {
     "iopub.execute_input": "2024-10-30T21:33:17.820621Z",
     "iopub.status.busy": "2024-10-30T21:33:17.820198Z",
     "iopub.status.idle": "2024-10-30T21:33:17.866757Z",
     "shell.execute_reply": "2024-10-30T21:33:17.865438Z"
    },
    "papermill": {
     "duration": 0.064988,
     "end_time": "2024-10-30T21:33:17.870923",
     "exception": false,
     "start_time": "2024-10-30T21:33:17.805935",
     "status": "completed"
    },
    "tags": []
   },
   "outputs": [
    {
     "name": "stdout",
     "output_type": "stream",
     "text": [
      "b0:  15289.357586508639\n",
      "b1,b2,b3... [-7.68540177e+00  6.55582363e+00 -3.65960802e-02 -1.02785639e+00\n",
      "  4.84313796e+00 -1.44452239e+00 -6.34805615e-04 -3.02001406e-01\n",
      "  6.81953276e-01 -8.93856608e-01  2.01651171e+01  6.38929623e-01\n",
      "  2.51291059e+00  1.50819517e-01  2.17070436e-07 -7.03947380e-01\n",
      "  2.32988542e+00 -1.46097043e+02 -2.87355253e+01]\n"
     ]
    }
   ],
   "source": [
    "x_train, x_test, y_train, y_test = train_test_split(x, y, test_size = 0.20, random_state= 42) \n",
    "lm = LinearRegression()\n",
    "model = lm.fit(x_train,y_train)\n",
    "\n",
    "print(\"b0: \", lm.intercept_)\n",
    "print(\"b1,b2,b3...\", lm.coef_)"
   ]
  },
  {
   "cell_type": "markdown",
   "id": "a81b6ad5",
   "metadata": {
    "papermill": {
     "duration": 0.026568,
     "end_time": "2024-10-30T21:33:17.924481",
     "exception": false,
     "start_time": "2024-10-30T21:33:17.897913",
     "status": "completed"
    },
    "tags": []
   },
   "source": [
    "* We load the x_test values to the model and let it predict the y_test values. Then we compare the results. "
   ]
  },
  {
   "cell_type": "code",
   "execution_count": 20,
   "id": "4be19548",
   "metadata": {
    "execution": {
     "iopub.execute_input": "2024-10-30T21:33:17.970671Z",
     "iopub.status.busy": "2024-10-30T21:33:17.970110Z",
     "iopub.status.idle": "2024-10-30T21:33:17.986759Z",
     "shell.execute_reply": "2024-10-30T21:33:17.984154Z"
    },
    "papermill": {
     "duration": 0.042362,
     "end_time": "2024-10-30T21:33:17.989523",
     "exception": false,
     "start_time": "2024-10-30T21:33:17.947161",
     "status": "completed"
    },
    "tags": []
   },
   "outputs": [
    {
     "data": {
      "text/plain": [
       "array([ 118.6066982 ,  562.26133738, 4875.53258371,  -17.63074349,\n",
       "         17.39918068])"
      ]
     },
     "execution_count": 20,
     "metadata": {},
     "output_type": "execute_result"
    }
   ],
   "source": [
    "y_head = model.predict(x_test)\n",
    "y_head[0:5]"
   ]
  },
  {
   "cell_type": "code",
   "execution_count": 21,
   "id": "7f82cbba",
   "metadata": {
    "execution": {
     "iopub.execute_input": "2024-10-30T21:33:18.020281Z",
     "iopub.status.busy": "2024-10-30T21:33:18.019842Z",
     "iopub.status.idle": "2024-10-30T21:33:18.026139Z",
     "shell.execute_reply": "2024-10-30T21:33:18.024892Z"
    },
    "papermill": {
     "duration": 0.025911,
     "end_time": "2024-10-30T21:33:18.029312",
     "exception": false,
     "start_time": "2024-10-30T21:33:18.003401",
     "status": "completed"
    },
    "tags": []
   },
   "outputs": [],
   "source": [
    "y_test_1 = np.array(range(0,len(y_test)))"
   ]
  },
  {
   "cell_type": "code",
   "execution_count": 22,
   "id": "09048e7d",
   "metadata": {
    "execution": {
     "iopub.execute_input": "2024-10-30T21:33:18.059235Z",
     "iopub.status.busy": "2024-10-30T21:33:18.058770Z",
     "iopub.status.idle": "2024-10-30T21:33:18.482646Z",
     "shell.execute_reply": "2024-10-30T21:33:18.480912Z"
    },
    "papermill": {
     "duration": 0.444148,
     "end_time": "2024-10-30T21:33:18.487329",
     "exception": false,
     "start_time": "2024-10-30T21:33:18.043181",
     "status": "completed"
    },
    "tags": []
   },
   "outputs": [
    {
     "name": "stdout",
     "output_type": "stream",
     "text": [
      "r2 score=  0.8149543168570788\n"
     ]
    },
    {
     "data": {
      "image/png": "[encoded data removed]",
      "text/plain": [
       "<Figure size 640x480 with 1 Axes>"
      ]
     },
     "metadata": {},
     "output_type": "display_data"
    }
   ],
   "source": [
    "# r2 value:\n",
    "r2_degeri = r2_score(y_test, y_head)\n",
    "print(\"r2 score= \",r2_degeri)\n",
    "\n",
    "plt.plot(y_test_1, y_test, color=\"r\")\n",
    "plt.plot(y_test_1, y_head, color=\"blue\")\n",
    "plt.show()"
   ]
  },
  {
   "cell_type": "code",
   "execution_count": 23,
   "id": "ef0217d4",
   "metadata": {
    "execution": {
     "iopub.execute_input": "2024-10-30T21:33:18.518871Z",
     "iopub.status.busy": "2024-10-30T21:33:18.518455Z",
     "iopub.status.idle": "2024-10-30T21:33:18.528980Z",
     "shell.execute_reply": "2024-10-30T21:33:18.527358Z"
    },
    "papermill": {
     "duration": 0.029419,
     "end_time": "2024-10-30T21:33:18.531916",
     "exception": false,
     "start_time": "2024-10-30T21:33:18.502497",
     "status": "completed"
    },
    "tags": []
   },
   "outputs": [
    {
     "data": {
      "text/plain": [
       "564.2287797752967"
      ]
     },
     "execution_count": 23,
     "metadata": {},
     "output_type": "execute_result"
    }
   ],
   "source": [
    "rmse = np.sqrt(mean_squared_error(y_test, y_head))\n",
    "rmse"
   ]
  },
  {
   "cell_type": "code",
   "execution_count": null,
   "id": "a0c07c9c",
   "metadata": {
    "papermill": {
     "duration": 0.015262,
     "end_time": "2024-10-30T21:33:18.565222",
     "exception": false,
     "start_time": "2024-10-30T21:33:18.549960",
     "status": "completed"
    },
    "tags": []
   },
   "outputs": [],
   "source": []
  }
 ],
 "metadata": {
  "kaggle": {
   "accelerator": "none",
   "dataSources": [
    {
     "datasetId": 5978267,
     "sourceId": 9762293,
     "sourceType": "datasetVersion"
    }
   ],
   "dockerImageVersionId": 30786,
   "isGpuEnabled": false,
   "isInternetEnabled": true,
   "language": "python",
   "sourceType": "notebook"
  },
  "kernelspec": {
   "display_name": "Python 3",
   "language": "python",
   "name": "python3"
  },
  "language_info": {
   "codemirror_mode": {
    "name": "ipython",
    "version": 3
   },
   "file_extension": ".py",
   "mimetype": "text/x-python",
   "name": "python",
   "nbconvert_exporter": "python",
   "pygments_lexer": "ipython3",
   "version": "3.10.14"
  },
  "papermill": {
   "default_parameters": {},
   "duration": 11.719794,
   "end_time": "2024-10-30T21:33:19.304327",
   "environment_variables": {},
   "exception": null,
   "input_path": "__notebook__.ipynb",
   "output_path": "__notebook__.ipynb",
   "parameters": {},
   "start_time": "2024-10-30T21:33:07.584533",
   "version": "2.6.0"
  }
 },
 "nbformat": 4,
 "nbformat_minor": 5
}
